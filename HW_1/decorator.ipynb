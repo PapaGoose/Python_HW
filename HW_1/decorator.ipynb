{
 "cells": [
  {
   "cell_type": "code",
   "execution_count": 46,
   "id": "fcb15be5",
   "metadata": {},
   "outputs": [],
   "source": [
    "import json\n",
    "import functools\n",
    "\n",
    "def to_json(func):\n",
    "    @functools.wraps(func)\n",
    "    def wraper(*args, **kwargs):\n",
    "        return json.dumps(func(*args, **kwargs))\n",
    "    return wraper"
   ]
  },
  {
   "cell_type": "code",
   "execution_count": 48,
   "id": "b0f00098",
   "metadata": {},
   "outputs": [
    {
     "name": "stdout",
     "output_type": "stream",
     "text": [
      "[{\"data\": 42, \"dat\": 23}, {\"daa\": 42, \"dat\": 23}]\n",
      "<class 'str'>\n",
      "get_data\n"
     ]
    }
   ],
   "source": [
    "@to_json\n",
    "def get_data():\n",
    "    return {'data': 42,'dat': 23},{'daa': 42,'dat': 23}\n",
    "\n",
    "print(get_data())\n",
    "print(type(get_data()))\n",
    "print(get_data.__name__)"
   ]
  }
 ],
 "metadata": {
  "kernelspec": {
   "display_name": "Python 3",
   "language": "python",
   "name": "python3"
  },
  "language_info": {
   "codemirror_mode": {
    "name": "ipython",
    "version": 3
   },
   "file_extension": ".py",
   "mimetype": "text/x-python",
   "name": "python",
   "nbconvert_exporter": "python",
   "pygments_lexer": "ipython3",
   "version": "3.8.8"
  }
 },
 "nbformat": 4,
 "nbformat_minor": 5
}
